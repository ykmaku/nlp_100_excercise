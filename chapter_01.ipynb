{
 "cells": [
  {
   "cell_type": "markdown",
   "metadata": {},
   "source": [
    "<h1 class=\"page__title\" id=\"page-title\" itemprop=\"headline\">第1章: 準備運動\n",
    "</h1>"
   ]
  },
  {
   "cell_type": "markdown",
   "metadata": {},
   "source": [
    "<ul class=\"toc__menu\">\n",
    "<li><a href=\"#00-文字列の逆順\">00. 文字列の逆順</a></li>\n",
    "<li><a href=\"#01-パタトクカシーー\">01. 「パタトクカシーー」</a></li>\n",
    "<li><a href=\"#02-パトカータクシーパタトクカシーー\">02. 「パトカー」＋「タクシー」＝「パタトクカシーー」</a></li>\n",
    "<li><a href=\"#03-円周率\">03. 円周率</a></li>\n",
    "<li><a href=\"#04-元素記号\">04. 元素記号</a></li>\n",
    "<li><a href=\"#05-n-gram\">05. n-gram</a></li>\n",
    "<li><a href=\"#06-集合\">06. 集合</a></li>\n",
    "<li><a href=\"#07-テンプレートによる文生成\">07. テンプレートによる文生成</a></li>\n",
    "<li><a href=\"#08-暗号文\">08. 暗号文</a></li>\n",
    "<li><a href=\"#09-typoglycemia\">09. Typoglycemia</a></li>\n",
    "</ul>"
   ]
  },
  {
   "cell_type": "code",
   "execution_count": 1,
   "metadata": {},
   "outputs": [],
   "source": [
    "import re\n",
    "import random"
   ]
  },
  {
   "cell_type": "markdown",
   "metadata": {},
   "source": [
    "<h2 id=\"00-文字列の逆順\">00. 文字列の逆順</h2><p>文字列”stressed”の文字を逆に（末尾から先頭に向かって）並べた文字列を得よ．</p>"
   ]
  },
  {
   "cell_type": "code",
   "execution_count": 2,
   "metadata": {},
   "outputs": [
    {
     "name": "stdout",
     "output_type": "stream",
     "text": [
      "desserts\n"
     ]
    }
   ],
   "source": [
    "text = \"stressed\"\n",
    "print(text[::-1])"
   ]
  },
  {
   "cell_type": "markdown",
   "metadata": {},
   "source": [
    "<h2 id=\"01-パタトクカシーー\">01. 「パタトクカシーー」</h2><p>「パタトクカシーー」という文字列の1,3,5,7文字目を取り出して連結した文字列を得よ．</p>"
   ]
  },
  {
   "cell_type": "code",
   "execution_count": 3,
   "metadata": {},
   "outputs": [
    {
     "name": "stdout",
     "output_type": "stream",
     "text": [
      "パトカー\n"
     ]
    }
   ],
   "source": [
    "text = \"パタトクカシーー\"\n",
    "print(text[::2])"
   ]
  },
  {
   "cell_type": "markdown",
   "metadata": {},
   "source": [
    "<h2 id=\"02-パトカータクシーパタトクカシーー\">02. 「パトカー」＋「タクシー」＝「パタトクカシーー」</h2><p>「パトカー」＋「タクシー」の文字を先頭から交互に連結して文字列「パタトクカシーー」を得よ．</p>"
   ]
  },
  {
   "cell_type": "code",
   "execution_count": 4,
   "metadata": {},
   "outputs": [
    {
     "name": "stdout",
     "output_type": "stream",
     "text": [
      "パタトクカシーー\n"
     ]
    }
   ],
   "source": [
    "text1 = \"パトカー\"\n",
    "text2 = \"タクシー\"\n",
    "\n",
    "print(''.join([x+y for x,y in zip(text1, text2)]))"
   ]
  },
  {
   "cell_type": "markdown",
   "metadata": {},
   "source": [
    "<h2 id=\"03-円周率\">03. 円周率</h2><p>“Now I need a drink, alcoholic of course, after the heavy lectures involving quantum mechanics.”という文を単語に分解し，各単語の（アルファベットの）文字数を先頭から出現順に並べたリストを作成せよ．</p>"
   ]
  },
  {
   "cell_type": "code",
   "execution_count": 5,
   "metadata": {},
   "outputs": [
    {
     "name": "stdout",
     "output_type": "stream",
     "text": [
      "[3, 1, 4, 1, 5, 9, 2, 6, 5, 3, 5, 8, 9, 7, 9]\n"
     ]
    }
   ],
   "source": [
    "sentence = \"Now I need a drink, alcoholic of course, after the heavy lectures involving quantum mechanics.\"\n",
    "sentence = re.sub(r\"(,|\\.)\", \"\", sentence)\n",
    "ans = [len(word) for word in sentence.split()]\n",
    "print(ans)"
   ]
  },
  {
   "cell_type": "markdown",
   "metadata": {},
   "source": [
    "<h2 id=\"04-元素記号\">04. 元素記号</h2><p>“Hi He Lied Because Boron Could Not Oxidize Fluorine. New Nations Might Also Sign Peace Security Clause. Arthur King Can.”という文を単語に分解し，1, 5, 6, 7, 8, 9, 15, 16, 19番目の単語は先頭の1文字，それ以外の単語は先頭の2文字を取り出し，取り出した文字列から単語の位置（先頭から何番目の単語か）への連想配列（辞書型もしくはマップ型）を作成せよ．</p>"
   ]
  },
  {
   "cell_type": "code",
   "execution_count": 6,
   "metadata": {},
   "outputs": [
    {
     "name": "stdout",
     "output_type": "stream",
     "text": [
      "{'H': 1, 'He': 2, 'Li': 3, 'Be': 4, 'B': 5, 'C': 6, 'N': 7, 'O': 8, 'F': 9, 'Ne': 10, 'Na': 11, 'Mi': 12, 'Al': 13, 'Si': 14, 'P': 15, 'S': 16, 'Cl': 17, 'Ar': 18, 'K': 19, 'Ca': 20}\n"
     ]
    }
   ],
   "source": [
    "sentence = \"Hi He Lied Because Boron Could Not Oxidize Fluorine. New Nations Might Also Sign Peace Security Clause. Arthur King Can.\"\n",
    "split = sentence.split()\n",
    "\n",
    "ans = {}\n",
    "\n",
    "for i, word in enumerate(split,start=1):\n",
    "    if i in [1,5,6,7,8,9,15,16,19]:\n",
    "        ans[word[0]] = i\n",
    "    else:\n",
    "        ans[word[:2]] = i\n",
    "print(ans)"
   ]
  },
  {
   "cell_type": "markdown",
   "metadata": {},
   "source": [
    "<h2 id=\"05-n-gram\">05. n-gram</h2><p>与えられたシーケンス（文字列やリストなど）からn-gramを作る関数を作成せよ．この関数を用い，”I am an NLPer”という文から単語bi-gram，文字bi-gramを得よ．</p>"
   ]
  },
  {
   "cell_type": "code",
   "execution_count": 7,
   "metadata": {},
   "outputs": [
    {
     "name": "stdout",
     "output_type": "stream",
     "text": [
      "単語bi-gram [['I', 'am'], ['am', 'an'], ['an', 'NLPer']]\n",
      "文字bi-gram ['I ', ' a', 'am', 'm ', ' a', 'an', 'n ', ' N', 'NL', 'LP', 'Pe', 'er']\n"
     ]
    }
   ],
   "source": [
    "def n_gram(seq, n):\n",
    "    return [seq[i:i+n] for i in range(len(seq)-n+1)]\n",
    "\n",
    "sentence = \"I am an NLPer\"\n",
    "\n",
    "print(\"単語bi-gram\", n_gram(sentence.split(), 2))\n",
    "print(\"文字bi-gram\", n_gram(sentence, 2))"
   ]
  },
  {
   "cell_type": "markdown",
   "metadata": {},
   "source": [
    "<h2 id=\"06-集合\">06. 集合</h2><p>“paraparaparadise”と”paragraph”に含まれる文字bi-gramの集合を，それぞれ, XとYとして求め，XとYの和集合，積集合，差集合を求めよ．さらに，’se’というbi-gramがXおよびYに含まれるかどうかを調べよ．</p>"
   ]
  },
  {
   "cell_type": "code",
   "execution_count": 8,
   "metadata": {},
   "outputs": [
    {
     "name": "stdout",
     "output_type": "stream",
     "text": [
      "和集合 {'ap', 'di', 'pa', 'ar', 'is', 'ad', 'ra', 'se'}\n",
      "積集合 {'gr', 'ap', 'pa', 'ar', 'ph', 'ag', 'ra'}\n",
      "差集合 {'di', 'se', 'is', 'ad'}\n",
      "'se' is in X:  True\n",
      "'se' is in Y:  False\n"
     ]
    }
   ],
   "source": [
    "word1 = \"paraparaparadise\"\n",
    "word2 = \"paragraph\"\n",
    "X = set(n_gram(word1,2))\n",
    "Y = set(n_gram(word2,2))\n",
    "\n",
    "print(\"和集合\", X or Y)\n",
    "print(\"積集合\", X and Y)\n",
    "print(\"差集合\", X-Y)\n",
    "print(\"'se' is in X: \", 'se' in X)\n",
    "print(\"'se' is in Y: \", 'se' in Y)"
   ]
  },
  {
   "cell_type": "markdown",
   "metadata": {},
   "source": [
    "<h2 id=\"07-テンプレートによる文生成\">07. テンプレートによる文生成</h2><p>引数x, y, zを受け取り「x時のyはz」という文字列を返す関数を実装せよ．さらに，x=12, y=”気温”, z=22.4として，実行結果を確認せよ．</p>"
   ]
  },
  {
   "cell_type": "code",
   "execution_count": 9,
   "metadata": {},
   "outputs": [
    {
     "name": "stdout",
     "output_type": "stream",
     "text": [
      "12時の気温は22.4\n"
     ]
    }
   ],
   "source": [
    "def f_07(x, y, z):\n",
    "    return f\"{x}時の{y}は{z}\"\n",
    "\n",
    "print(f_07(12, '気温', 22.4))"
   ]
  },
  {
   "cell_type": "markdown",
   "metadata": {},
   "source": [
    "<h2 id=\"08-暗号文\">08. 暗号文</h2><p>与えられた文字列の各文字を，以下の仕様で変換する関数cipherを実装せよ．</p><ul>\n",
    "<li>英小文字ならば(219 - 文字コード)の文字に置換</li>\n",
    "<li>その他の文字はそのまま出力</li>\n",
    "</ul><p>この関数を用い，英語のメッセージを暗号化・復号化せよ．</p>"
   ]
  },
  {
   "cell_type": "code",
   "execution_count": 10,
   "metadata": {},
   "outputs": [
    {
     "name": "stdout",
     "output_type": "stream",
     "text": [
      "sltv uftz 123 ABC\n",
      "hoge fuga 123 ABC\n"
     ]
    }
   ],
   "source": [
    "def cipher(string):\n",
    "    return ''.join([chr(219-ord(c)) if c.islower() else c for c in string])\n",
    "\n",
    "sentence = \"hoge fuga 123 ABC\"\n",
    "print(cipher(sentence))\n",
    "print(cipher(cipher(sentence)))"
   ]
  },
  {
   "cell_type": "markdown",
   "metadata": {},
   "source": [
    "<h2 id=\"09-typoglycemia\">09. Typoglycemia</h2><p>スペースで区切られた単語列に対して，各単語の先頭と末尾の文字は残し，それ以外の文字の順序をランダムに並び替えるプログラムを作成せよ．ただし，長さが４以下の単語は並び替えないこととする．適当な英語の文（例えば”I couldn’t believe that I could actually understand what I was reading : the phenomenal power of the human mind .”）を与え，その実行結果を確認せよ．</p>"
   ]
  },
  {
   "cell_type": "code",
   "execution_count": 11,
   "metadata": {},
   "outputs": [],
   "source": [
    "def f_09(sentence):\n",
    "    words = sentence.split()\n",
    "    res = []\n",
    "    for word in words:\n",
    "        if len(word)<=4:\n",
    "            res.append(word)\n",
    "            continue\n",
    "        \n",
    "        tmp = random.sample(word[1:-1], len(word)-2)\n",
    "        \n",
    "        tmp = word[0] + ''.join(tmp) + word[-1]\n",
    "        res.append(tmp)\n",
    "    return ' '.join(res)"
   ]
  },
  {
   "cell_type": "code",
   "execution_count": 12,
   "metadata": {},
   "outputs": [
    {
     "data": {
      "text/plain": [
       "'I cd’oulnt bieleve that I cuold alutacly utrsnedand what I was rniadeg : the phaeonneml power of the huamn mind .'"
      ]
     },
     "execution_count": 12,
     "metadata": {},
     "output_type": "execute_result"
    }
   ],
   "source": [
    "random.seed(0)\n",
    "f_09(\"I couldn’t believe that I could actually understand what I was reading : the phenomenal power of the human mind .\")"
   ]
  },
  {
   "cell_type": "code",
   "execution_count": null,
   "metadata": {},
   "outputs": [],
   "source": []
  }
 ],
 "metadata": {
  "kernelspec": {
   "display_name": "ykmaku",
   "language": "python",
   "name": "ykmaku"
  },
  "language_info": {
   "codemirror_mode": {
    "name": "ipython",
    "version": 3
   },
   "file_extension": ".py",
   "mimetype": "text/x-python",
   "name": "python",
   "nbconvert_exporter": "python",
   "pygments_lexer": "ipython3",
   "version": "3.6.9"
  }
 },
 "nbformat": 4,
 "nbformat_minor": 4
}
