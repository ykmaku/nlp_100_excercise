{
 "cells": [
  {
   "cell_type": "markdown",
   "metadata": {},
   "source": [
    "<h1 class=\"page__title\" id=\"page-title\" itemprop=\"headline\">第2章: UNIXコマンド\n",
    "</h1>"
   ]
  },
  {
   "cell_type": "markdown",
   "metadata": {},
   "source": [
    "<ul class=\"toc__menu\">\n",
    "<li><a href=\"#10-行数のカウント\">10. 行数のカウント</a></li>\n",
    "<li><a href=\"#11-タブをスペースに置換\">11. タブをスペースに置換</a></li>\n",
    "<li><a href=\"#12-1列目をcol1txtに2列目をcol2txtに保存\">12. 1列目をcol1.txtに，2列目をcol2.txtに保存</a></li>\n",
    "<li><a href=\"#13-col1txtとcol2txtをマージ\">13. col1.txtとcol2.txtをマージ</a></li>\n",
    "<li><a href=\"#14-先頭からn行を出力\">14. 先頭からN行を出力</a></li>\n",
    "<li><a href=\"#15-末尾のn行を出力\">15. 末尾のN行を出力</a></li>\n",
    "<li><a href=\"#16-ファイルをn分割する\">16. ファイルをN分割する</a></li>\n",
    "<li><a href=\"#17-１列目の文字列の異なり\">17. １列目の文字列の異なり</a></li>\n",
    "<li><a href=\"#18-各行を3コラム目の数値の降順にソート\">18. 各行を3コラム目の数値の降順にソート</a></li>\n",
    "<li><a href=\"#19-各行の1コラム目の文字列の出現頻度を求め出現頻度の高い順に並べる\">19. 各行の1コラム目の文字列の出現頻度を求め，出現頻度の高い順に並べる</a></li>\n",
    "</ul>"
   ]
  },
  {
   "cell_type": "markdown",
   "metadata": {},
   "source": [
    "<p><a href=\"/data/popular-names.txt\">popular-names.txt</a>は，アメリカで生まれた赤ちゃんの「名前」「性別」「人数」「年」をタブ区切り形式で格納したファイルである．以下の処理を行うプログラムを作成し，<a href=\"/data/popular-names.txt\">popular-names.txt</a>を入力ファイルとして実行せよ．さらに，同様の処理をUNIXコマンドでも実行し，プログラムの実行結果を確認せよ．</p>"
   ]
  },
  {
   "cell_type": "code",
   "execution_count": 1,
   "metadata": {},
   "outputs": [
    {
     "name": "stdout",
     "output_type": "stream",
     "text": [
      "popular-names.txt\n"
     ]
    }
   ],
   "source": [
    "! ls ./data"
   ]
  },
  {
   "cell_type": "code",
   "execution_count": 3,
   "metadata": {},
   "outputs": [],
   "source": [
    "import os\n",
    "import pandas as pd"
   ]
  },
  {
   "cell_type": "markdown",
   "metadata": {},
   "source": [
    "<h2 id=\"10-行数のカウント\">10. 行数のカウント</h2><p>行数をカウントせよ．確認にはwcコマンドを用いよ．</p>"
   ]
  },
  {
   "cell_type": "code",
   "execution_count": 8,
   "metadata": {},
   "outputs": [
    {
     "data": {
      "text/plain": [
       "2780"
      ]
     },
     "execution_count": 8,
     "metadata": {},
     "output_type": "execute_result"
    }
   ],
   "source": [
    "pd.read_csv(\"./data/popular-names.txt\", sep='\\t', header=None).shape[0]"
   ]
  },
  {
   "cell_type": "code",
   "execution_count": 5,
   "metadata": {},
   "outputs": [
    {
     "name": "stdout",
     "output_type": "stream",
     "text": [
      "2780 data/popular-names.txt\n"
     ]
    }
   ],
   "source": [
    "! wc -l data/popular-names.txt "
   ]
  },
  {
   "cell_type": "markdown",
   "metadata": {},
   "source": [
    "<h2 id=\"11-タブをスペースに置換\">11. タブをスペースに置換</h2><p>タブ1文字につきスペース1文字に置換せよ．確認にはsedコマンド，trコマンド，もしくはexpandコマンドを用いよ．</p>"
   ]
  },
  {
   "cell_type": "code",
   "execution_count": 13,
   "metadata": {},
   "outputs": [
    {
     "name": "stdout",
     "output_type": "stream",
     "text": [
      "Mary F 7065 1880\n",
      "Anna F 2604 1880\n",
      "Emma F 2003 1880\n",
      "sed: couldn't write 17 items to stdout: Broken pipe\n"
     ]
    }
   ],
   "source": [
    "! sed -e 's/\\t/ /g' data/popular-names.txt | head -n 3"
   ]
  },
  {
   "cell_type": "code",
   "execution_count": 15,
   "metadata": {},
   "outputs": [
    {
     "name": "stdout",
     "output_type": "stream",
     "text": [
      "Mary F 7065 1880\n",
      "Anna F 2604 1880\n",
      "Emma F 2003 1880\n"
     ]
    }
   ],
   "source": [
    "! cat data/popular-names.txt | tr \"\\t\" \" \" | head -n 3"
   ]
  },
  {
   "cell_type": "code",
   "execution_count": 17,
   "metadata": {},
   "outputs": [
    {
     "name": "stdout",
     "output_type": "stream",
     "text": [
      "Mary    F       7065    1880\n",
      "Anna    F       2604    1880\n",
      "Emma    F       2003    1880\n",
      "expand: write error: Broken pipe\n",
      "expand: write error\n"
     ]
    }
   ],
   "source": [
    "! expand data/popular-names.txt | head -n 3"
   ]
  },
  {
   "cell_type": "markdown",
   "metadata": {},
   "source": [
    "<h2 id=\"12-1列目をcol1txtに2列目をcol2txtに保存\">12. 1列目をcol1.txtに，2列目をcol2.txtに保存</h2><p>各行の1列目だけを抜き出したものをcol1.txtに，2列目だけを抜き出したものをcol2.txtとしてファイルに保存せよ．確認にはcutコマンドを用いよ．</p>"
   ]
  },
  {
   "cell_type": "code",
   "execution_count": 18,
   "metadata": {},
   "outputs": [],
   "source": [
    "df = pd.read_csv(\"data/popular-names.txt\", sep=\"\\t\", header=None, names=[\"name\", \"sex\", \"number\", \"gender\"])\n",
    "df.iloc[:,1].to_csv(\"output/col1.txt\", index=None)\n",
    "df.iloc[:,2].to_csv(\"output/col2.txt\", index=None)"
   ]
  },
  {
   "cell_type": "code",
   "execution_count": 19,
   "metadata": {},
   "outputs": [
    {
     "data": {
      "text/plain": [
       "0    Mary\n",
       "1    Anna\n",
       "2    Emma\n",
       "Name: name, dtype: object"
      ]
     },
     "execution_count": 19,
     "metadata": {},
     "output_type": "execute_result"
    }
   ],
   "source": [
    "df.iloc[:,0].head(3)"
   ]
  },
  {
   "cell_type": "code",
   "execution_count": 20,
   "metadata": {},
   "outputs": [
    {
     "data": {
      "text/plain": [
       "0    F\n",
       "1    F\n",
       "2    F\n",
       "Name: sex, dtype: object"
      ]
     },
     "execution_count": 20,
     "metadata": {},
     "output_type": "execute_result"
    }
   ],
   "source": [
    "df.iloc[:,1].head(3)"
   ]
  },
  {
   "cell_type": "code",
   "execution_count": 27,
   "metadata": {},
   "outputs": [],
   "source": [
    "df.iloc[:,0].to_csv(\"output/col1.txt\", index=None, header=None)\n",
    "df.iloc[:,1].to_csv(\"output/col2.txt\", index=None, header=None)"
   ]
  },
  {
   "cell_type": "code",
   "execution_count": 28,
   "metadata": {},
   "outputs": [
    {
     "name": "stdout",
     "output_type": "stream",
     "text": [
      "Mary\tF\n",
      "Anna\tF\n",
      "Emma\tF\n",
      "cut: write error: Broken pipe\n"
     ]
    }
   ],
   "source": [
    "! cut -f 1-2 data/popular-names.txt | head -n 3 "
   ]
  },
  {
   "cell_type": "code",
   "execution_count": 29,
   "metadata": {},
   "outputs": [
    {
     "name": "stdout",
     "output_type": "stream",
     "text": [
      "Mary\n",
      "Anna\n",
      "Emma\n"
     ]
    }
   ],
   "source": [
    "! head -n 3 output/col1.txt"
   ]
  },
  {
   "cell_type": "markdown",
   "metadata": {},
   "source": [
    "<h2 id=\"13-col1txtとcol2txtをマージ\">13. col1.txtとcol2.txtをマージ</h2><p>12で作ったcol1.txtとcol2.txtを結合し，元のファイルの1列目と2列目をタブ区切りで並べたテキストファイルを作成せよ．確認にはpasteコマンドを用いよ．</p>"
   ]
  },
  {
   "cell_type": "code",
   "execution_count": 32,
   "metadata": {},
   "outputs": [],
   "source": [
    "col1 = pd.read_csv(\"output/col1.txt\", header=None)\n",
    "col2 = pd.read_csv(\"output/col2.txt\", header=None)\n",
    "\n",
    "col1_col2 = pd.concat([col1, col2], axis=1)\n",
    "col1_col2.to_csv(\"output/col1_col2.txt\", sep=\"\\t\", index=False, header=None)"
   ]
  },
  {
   "cell_type": "code",
   "execution_count": 33,
   "metadata": {},
   "outputs": [
    {
     "name": "stdout",
     "output_type": "stream",
     "text": [
      "Mary\tF\n",
      "Anna\tF\n",
      "Emma\tF\n"
     ]
    }
   ],
   "source": [
    "! head -n 3 output/col1_col2.txt"
   ]
  },
  {
   "cell_type": "code",
   "execution_count": 35,
   "metadata": {},
   "outputs": [
    {
     "name": "stdout",
     "output_type": "stream",
     "text": [
      "Mary\tF\n",
      "Anna\tF\n",
      "Emma\tF\n",
      "paste: write error: Broken pipe\n",
      "paste: write error\n"
     ]
    }
   ],
   "source": [
    "! paste output/col1.txt output/col2.txt | head -n 3"
   ]
  },
  {
   "cell_type": "markdown",
   "metadata": {},
   "source": [
    "<h2 id=\"14-先頭からn行を出力\">14. 先頭からN行を出力</h2><p>自然数Nをコマンドライン引数などの手段で受け取り，入力のうち先頭のN行だけを表示せよ．確認にはheadコマンドを用いよ．</p>"
   ]
  },
  {
   "cell_type": "code",
   "execution_count": 38,
   "metadata": {},
   "outputs": [],
   "source": [
    "def head_df(n):\n",
    "    print(df.head(n))"
   ]
  },
  {
   "cell_type": "code",
   "execution_count": 39,
   "metadata": {},
   "outputs": [
    {
     "name": "stdout",
     "output_type": "stream",
     "text": [
      "   name sex  number  gender\n",
      "0  Mary   F    7065    1880\n",
      "1  Anna   F    2604    1880\n",
      "2  Emma   F    2003    1880\n"
     ]
    }
   ],
   "source": [
    "head_df(3)"
   ]
  },
  {
   "cell_type": "markdown",
   "metadata": {},
   "source": [
    "<h2 id=\"15-末尾のn行を出力\">15. 末尾のN行を出力</h2><p>自然数Nをコマンドライン引数などの手段で受け取り，入力のうち末尾のN行だけを表示せよ．確認にはtailコマンドを用いよ．</p>"
   ]
  },
  {
   "cell_type": "code",
   "execution_count": 40,
   "metadata": {},
   "outputs": [],
   "source": [
    "def tail_df(n):\n",
    "    print(df.tail(n))"
   ]
  },
  {
   "cell_type": "markdown",
   "metadata": {},
   "source": [
    "<h2 id=\"16-ファイルをn分割する\">16. ファイルをN分割する</h2><p>自然数Nをコマンドライン引数などの手段で受け取り，入力のファイルを行単位でN分割せよ．同様の処理をsplitコマンドで実現せよ．</p>"
   ]
  },
  {
   "cell_type": "code",
   "execution_count": 78,
   "metadata": {},
   "outputs": [],
   "source": [
    "def split_df(n):\n",
    "    return [df_ for _, df_ in df.groupby([df.index%n])]"
   ]
  },
  {
   "cell_type": "code",
   "execution_count": 83,
   "metadata": {},
   "outputs": [
    {
     "name": "stdout",
     "output_type": "stream",
     "text": [
      "(927, 4)\n",
      "        name sex  number  gender\n",
      "0       Mary   F    7065    1880\n",
      "3  Elizabeth   F    1939    1880\n",
      "(927, 4)\n",
      "     name sex  number  gender\n",
      "1    Anna   F    2604    1880\n",
      "4  Minnie   F    1746    1880\n",
      "(926, 4)\n",
      "       name sex  number  gender\n",
      "2      Emma   F    2003    1880\n",
      "5  Margaret   F    1578    1880\n"
     ]
    }
   ],
   "source": [
    "for df_ in split_df(3):\n",
    "    print(df_.shape)\n",
    "    print(df_.head(2))"
   ]
  },
  {
   "cell_type": "code",
   "execution_count": 88,
   "metadata": {},
   "outputs": [
    {
     "name": "stdout",
     "output_type": "stream",
     "text": [
      "popular-names-split00  popular-names-split01  popular-names-split02\n"
     ]
    }
   ],
   "source": [
    "! split -n3 -d data/popular-names.txt tmp/popular-names-split && ls tmp && rm tmp/*"
   ]
  },
  {
   "cell_type": "markdown",
   "metadata": {},
   "source": [
    "<h2 id=\"17-１列目の文字列の異なり\">17. １列目の文字列の異なり</h2><p>1列目の文字列の種類（異なる文字列の集合）を求めよ．確認にはcut, sort, uniqコマンドを用いよ．</p>"
   ]
  },
  {
   "cell_type": "code",
   "execution_count": 46,
   "metadata": {},
   "outputs": [
    {
     "data": {
      "text/plain": [
       "array(['Abigail', 'Aiden', 'Alexander', 'Alexis', 'Alice', 'Amanda',\n",
       "       'Amelia', 'Amy', 'Andrew', 'Angela', 'Anna', 'Annie', 'Anthony',\n",
       "       'Ashley', 'Austin', 'Ava', 'Barbara', 'Benjamin', 'Bertha',\n",
       "       'Bessie', 'Betty', 'Brandon', 'Brian', 'Brittany', 'Carol',\n",
       "       'Carolyn', 'Charles', 'Charlotte', 'Chloe', 'Christopher', 'Clara',\n",
       "       'Crystal', 'Cynthia', 'Daniel', 'David', 'Deborah', 'Debra',\n",
       "       'Donald', 'Donna', 'Doris', 'Dorothy', 'Edward', 'Elijah',\n",
       "       'Elizabeth', 'Emily', 'Emma', 'Ethan', 'Ethel', 'Evelyn',\n",
       "       'Florence', 'Frances', 'Frank', 'Gary', 'George', 'Hannah',\n",
       "       'Harper', 'Harry', 'Heather', 'Helen', 'Henry', 'Ida', 'Isabella',\n",
       "       'Jacob', 'James', 'Jason', 'Jayden', 'Jeffrey', 'Jennifer',\n",
       "       'Jessica', 'Joan', 'John', 'Joseph', 'Joshua', 'Judith', 'Julie',\n",
       "       'Justin', 'Karen', 'Kathleen', 'Kelly', 'Kimberly', 'Larry',\n",
       "       'Laura', 'Lauren', 'Liam', 'Lillian', 'Linda', 'Lisa', 'Logan',\n",
       "       'Lori', 'Lucas', 'Madison', 'Margaret', 'Marie', 'Mark', 'Mary',\n",
       "       'Mason', 'Matthew', 'Megan', 'Melissa', 'Mia', 'Michael',\n",
       "       'Michelle', 'Mildred', 'Minnie', 'Nancy', 'Nicholas', 'Nicole',\n",
       "       'Noah', 'Oliver', 'Olivia', 'Pamela', 'Patricia', 'Rachel',\n",
       "       'Rebecca', 'Richard', 'Robert', 'Ronald', 'Ruth', 'Samantha',\n",
       "       'Sandra', 'Sarah', 'Scott', 'Sharon', 'Shirley', 'Sophia',\n",
       "       'Stephanie', 'Steven', 'Susan', 'Tammy', 'Taylor', 'Thomas',\n",
       "       'Tracy', 'Tyler', 'Virginia', 'Walter', 'William'], dtype=object)"
      ]
     },
     "execution_count": 46,
     "metadata": {},
     "output_type": "execute_result"
    }
   ],
   "source": [
    "df.iloc[:,0].sort_values().unique()"
   ]
  },
  {
   "cell_type": "code",
   "execution_count": 62,
   "metadata": {},
   "outputs": [
    {
     "data": {
      "text/plain": [
       "136"
      ]
     },
     "execution_count": 62,
     "metadata": {},
     "output_type": "execute_result"
    }
   ],
   "source": [
    "df.iloc[:,0].sort_values().nunique()"
   ]
  },
  {
   "cell_type": "code",
   "execution_count": 49,
   "metadata": {},
   "outputs": [
    {
     "name": "stdout",
     "output_type": "stream",
     "text": [
      "Abigail\tAiden\tAlexander\tAlexis\tAlice\tAmanda\tAmelia\tAmy\tAndrew\tAngela\tAnna\tAnnie\tAnthony\tAshley\tAustin\tAva\tBarbara\tBenjamin\tBertha\tBessie\tBetty\tBrandon\tBrian\tBrittany\tCarol\tCarolyn\tCharles\tCharlotte\tChloe\tChristopher\tClara\tCrystal\tCynthia\tDaniel\tDavid\tDeborah\tDebra\tDonald\tDonna\tDoris\tDorothy\tEdward\tElijah\tElizabeth\tEmily\tEmma\tEthan\tEthel\tEvelyn\tFlorence\tFrances\tFrank\tGary\tGeorge\tHannah\tHarper\tHarry\tHeather\tHelen\tHenry\tIda\tIsabella\tJacob\tJames\tJason\tJayden\tJeffrey\tJennifer\tJessica\tJoan\tJohn\tJoseph\tJoshua\tJudith\tJulie\tJustin\tKaren\tKathleen\tKelly\tKimberly\tLarry\tLaura\tLauren\tLiam\tLillian\tLinda\tLisa\tLogan\tLori\tLucas\tMadison\tMargaret\tMarie\tMark\tMary\tMason\tMatthew\tMegan\tMelissa\tMia\tMichael\tMichelle\tMildred\tMinnie\tNancy\tNicholas\tNicole\tNoah\tOliver\tOlivia\tPamela\tPatricia\tRachel\tRebecca\tRichard\tRobert\tRonald\tRuth\tSamantha\tSandra\tSarah\tScott\tSharon\tShirley\tSophia\tStephanie\tSteven\tSusan\tTammy\tTaylor\tThomas\tTracy\tTyler\tVirginia\tWalter\tWilliam\t"
     ]
    }
   ],
   "source": [
    "! cut -f 1 data/popular-names.txt | sort | uniq | tr \"\\n\" \"\\t\" "
   ]
  },
  {
   "cell_type": "code",
   "execution_count": 63,
   "metadata": {},
   "outputs": [
    {
     "name": "stdout",
     "output_type": "stream",
     "text": [
      "136\n"
     ]
    }
   ],
   "source": [
    "! cut -f 1 data/popular-names.txt | sort | uniq | wc -l "
   ]
  },
  {
   "cell_type": "markdown",
   "metadata": {},
   "source": [
    "<h2 id=\"18-各行を3コラム目の数値の降順にソート\">18. 各行を3コラム目の数値の降順にソート</h2><p>各行を3コラム目の数値の逆順で整列せよ（注意: 各行の内容は変更せずに並び替えよ）．確認にはsortコマンドを用いよ（この問題はコマンドで実行した時の結果と合わなくてもよい）．</p>"
   ]
  },
  {
   "cell_type": "code",
   "execution_count": 50,
   "metadata": {},
   "outputs": [
    {
     "data": {
      "text/html": [
       "<div>\n",
       "<style scoped>\n",
       "    .dataframe tbody tr th:only-of-type {\n",
       "        vertical-align: middle;\n",
       "    }\n",
       "\n",
       "    .dataframe tbody tr th {\n",
       "        vertical-align: top;\n",
       "    }\n",
       "\n",
       "    .dataframe thead th {\n",
       "        text-align: right;\n",
       "    }\n",
       "</style>\n",
       "<table border=\"1\" class=\"dataframe\">\n",
       "  <thead>\n",
       "    <tr style=\"text-align: right;\">\n",
       "      <th></th>\n",
       "      <th>name</th>\n",
       "      <th>sex</th>\n",
       "      <th>number</th>\n",
       "      <th>gender</th>\n",
       "    </tr>\n",
       "  </thead>\n",
       "  <tbody>\n",
       "    <tr>\n",
       "      <th>1340</th>\n",
       "      <td>Linda</td>\n",
       "      <td>F</td>\n",
       "      <td>99689</td>\n",
       "      <td>1947</td>\n",
       "    </tr>\n",
       "    <tr>\n",
       "      <th>1360</th>\n",
       "      <td>Linda</td>\n",
       "      <td>F</td>\n",
       "      <td>96211</td>\n",
       "      <td>1948</td>\n",
       "    </tr>\n",
       "    <tr>\n",
       "      <th>1350</th>\n",
       "      <td>James</td>\n",
       "      <td>M</td>\n",
       "      <td>94757</td>\n",
       "      <td>1947</td>\n",
       "    </tr>\n",
       "  </tbody>\n",
       "</table>\n",
       "</div>"
      ],
      "text/plain": [
       "       name sex  number  gender\n",
       "1340  Linda   F   99689    1947\n",
       "1360  Linda   F   96211    1948\n",
       "1350  James   M   94757    1947"
      ]
     },
     "execution_count": 50,
     "metadata": {},
     "output_type": "execute_result"
    }
   ],
   "source": [
    "df.sort_values(df.columns[2], ascending=False).head(3)"
   ]
  },
  {
   "cell_type": "code",
   "execution_count": 54,
   "metadata": {},
   "outputs": [
    {
     "name": "stdout",
     "output_type": "stream",
     "text": [
      "Linda\tF\t99689\t1947\n",
      "Linda\tF\t96211\t1948\n",
      "James\tM\t94757\t1947\n",
      "sort: write failed: 'standard output': Broken pipe\n",
      "sort: write error\n"
     ]
    }
   ],
   "source": [
    "! sort -n -k3 -r data/popular-names.txt | head -n 3"
   ]
  },
  {
   "cell_type": "markdown",
   "metadata": {},
   "source": [
    "<h2 id=\"19-各行の1コラム目の文字列の出現頻度を求め出現頻度の高い順に並べる\">19. 各行の1コラム目の文字列の出現頻度を求め，出現頻度の高い順に並べる</h2><p>各行の1列目の文字列の出現頻度を求め，その高い順に並べて表示せよ．確認にはcut, uniq, sortコマンドを用いよ．</p>"
   ]
  },
  {
   "cell_type": "code",
   "execution_count": 56,
   "metadata": {},
   "outputs": [
    {
     "data": {
      "text/plain": [
       "James      118\n",
       "William    111\n",
       "John       108\n",
       "Name: name, dtype: int64"
      ]
     },
     "execution_count": 56,
     "metadata": {},
     "output_type": "execute_result"
    }
   ],
   "source": [
    "df.iloc[:,0].value_counts().head(3)"
   ]
  },
  {
   "cell_type": "code",
   "execution_count": 61,
   "metadata": {},
   "outputs": [
    {
     "name": "stdout",
     "output_type": "stream",
     "text": [
      "    118 James\n",
      "    111 William\n",
      "    108 Robert\n"
     ]
    }
   ],
   "source": [
    "! cut -f1 data/popular-names.txt | sort | uniq -c | sort -n -k1 -r | head -n 3"
   ]
  },
  {
   "cell_type": "code",
   "execution_count": null,
   "metadata": {},
   "outputs": [],
   "source": []
  }
 ],
 "metadata": {
  "kernelspec": {
   "display_name": "ykmaku",
   "language": "python",
   "name": "ykmaku"
  },
  "language_info": {
   "codemirror_mode": {
    "name": "ipython",
    "version": 3
   },
   "file_extension": ".py",
   "mimetype": "text/x-python",
   "name": "python",
   "nbconvert_exporter": "python",
   "pygments_lexer": "ipython3",
   "version": "3.6.9"
  }
 },
 "nbformat": 4,
 "nbformat_minor": 4
}
